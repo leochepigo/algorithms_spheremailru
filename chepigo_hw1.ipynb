{
 "cells": [
  {
   "cell_type": "markdown",
   "metadata": {},
   "source": [
    "**Общая информация**\n",
    "\n",
    "**Срок сдачи:** 20 марта 2019, 06:00 <br\\>\n",
    "**Штраф за опоздание:** -1 балл после 06:00 20 марта, -2 балла после 06:00 27 марта, -3 балла после 06:00 3 апреля\n",
    "\n",
    "При отправлении ДЗ указывайте фамилию в названии файла\n",
    "Присылать ДЗ необходимо в виде ссылки на свой github репозиторий в slack @alkhamush\n",
    "\n",
    "Необходимо в slack скинуть ссылку в личный чат @alkhamush\n",
    "Пример ссылки:\n",
    "https://github.com/stroykova/spheremailru/stroykova_hw1.ipynb \n",
    "\n",
    "\n",
    "Используйте данный Ipython Notebook при оформлении домашнего задания."
   ]
  },
  {
   "cell_type": "markdown",
   "metadata": {},
   "source": [
    "###### Задание 1 (2 баллов)\n",
    "Реализовать KNN в классе MyKNeighborsClassifier (обязательное условие: точность не ниже sklearn реализации)\n",
    "Разберитесь самостоятельно, какая мера расстояния используется в KNeighborsClassifier дефолтно и реализуйте свой алгоритм именно с этой мерой. Самостоятельно разберитесь, как считается score из KNeighborsClassifier и реализуйте аналог в своём классе. Score не должен уступать значению KNN из sklearn\n",
    "\n",
    "###### Задание 2 (2 балла)\n",
    "Добиться скорости работы на fit,  predict и predict_proba сравнимой со sklearn для iris и mnist\n",
    "Для этого используем numpy\n",
    "\n",
    "###### Задание 3 (2 балла)\n",
    "Для iris найдите такой параметр n_neighbors, при котором выдаётся наилучший score. Нарисуйте график зависимости score от n_neighbors\n",
    "\n",
    "###### Задание 4 (3 балла)\n",
    "Добавить algorithm='kd_tree' в реализацию KNN (использовать KDTree из sklearn.neighbors). Значение n_neighbors нужно взять из задания 3. Добиться скорости работы на fit,  predict и predict_proba сравнимой со sklearn для iris и mnist\n",
    "Для этого используем numpy. Score не должен уступать значению KNN из sklearn\n",
    "\n",
    "###### Задание 5 (1 балла)\n",
    "Описать для чего нужны следующие библиотеки/классы/функции (список будет ниже)\n",
    "\n",
    "**Штрафные баллы:**\n",
    "\n",
    "1. Невыполнение PEP8 -1 балл\n",
    "2. Отсутствие фамилии в имени скрипта (скрипт должен называться по аналогии со stroykova_hw1.ipynb) -1 балл\n",
    "3. Все строчки должны быть выполнены. Нужно, чтобы output команды можно было увидеть уже в git'е. В противном случае -1 балл\n",
    "4. При оформлении ДЗ нужно пользоваться данным файлом в качестве шаблона. Не нужно удалять и видоизменять структуру кода и текст. В противном случае -1 балл\n"
   ]
  },
  {
   "cell_type": "code",
   "execution_count": 1,
   "metadata": {
    "scrolled": true
   },
   "outputs": [],
   "source": [
    "import numpy as np\n",
    "import matplotlib.pyplot as plt\n",
    "from scipy.spatial.distance import cdist\n",
    "\n",
    "import seaborn as sns\n",
    "from sklearn import datasets\n",
    "from sklearn.base import ClassifierMixin\n",
    "from sklearn.datasets import fetch_mldata\n",
    "from sklearn.neighbors.base import NeighborsBase, KNeighborsMixin, SupervisedIntegerMixin \n",
    "from sklearn.model_selection import train_test_split\n",
    "from sklearn.neighbors import KNeighborsClassifier\n",
    "from sklearn.neighbors import KDTree\n",
    "%load_ext pycodestyle_magic"
   ]
  },
  {
   "cell_type": "code",
   "execution_count": 2,
   "metadata": {},
   "outputs": [],
   "source": [
    "%%pycodestyle\n",
    "\n",
    "\n",
    "class MyKNeighborsClassifier(NeighborsBase, KNeighborsMixin,\n",
    "                             SupervisedIntegerMixin, ClassifierMixin):\n",
    "\n",
    "    def __init__(self, n_neighbors, algorithm='brute'):\n",
    "        self.n_neighbors = n_neighbors\n",
    "        self.algorithm = algorithm\n",
    "\n",
    "    def fit(self, X, y):\n",
    "        self.X_train = np.array(X)\n",
    "        self.y_train = np.array(y)\n",
    "        self.classes = np.unique(y).reshape(-1, 1, 1)\n",
    "        if self.algorithm == 'kd_tree':\n",
    "            self.tree = KDTree(X, leaf_size=30)\n",
    "\n",
    "    def predict(self, X):\n",
    "        which_class = self.predict_proba(X)\n",
    "        return self.classes[np.argmax(which_class, axis=1)].flatten()\n",
    "\n",
    "    def predict_proba(self, X):\n",
    "        if self.algorithm == 'brute':\n",
    "            dist = cdist(X, self.X_train)\n",
    "            idx = dist.argsort(axis=1)[:, :self.n_neighbors]\n",
    "        elif self.algorithm == 'kd_tree':\n",
    "            idx = self.tree.query(X, k=self.n_neighbors, return_distance=False)\n",
    "        which_class = self.y_train[idx] == self.classes\n",
    "        return np.sum(which_class, axis=2).T/self.n_neighbors\n",
    "\n",
    "    def score(self, X, y):\n",
    "        y_pred = self.predict(X)\n",
    "        return np.sum((y_pred == y).astype(int))/len(y)\n"
   ]
  },
  {
   "cell_type": "markdown",
   "metadata": {},
   "source": [
    "**IRIS**"
   ]
  },
  {
   "cell_type": "code",
   "execution_count": 3,
   "metadata": {},
   "outputs": [],
   "source": [
    "iris = datasets.load_iris()"
   ]
  },
  {
   "cell_type": "code",
   "execution_count": 4,
   "metadata": {},
   "outputs": [],
   "source": [
    "X_train, X_test, y_train, y_test = train_test_split(iris.data, iris.target, test_size=0.1, stratify=iris.target)"
   ]
  },
  {
   "cell_type": "code",
   "execution_count": 5,
   "metadata": {},
   "outputs": [],
   "source": [
    "clf = KNeighborsClassifier(n_neighbors=2)\n",
    "my_clf = MyKNeighborsClassifier(n_neighbors=2)"
   ]
  },
  {
   "cell_type": "code",
   "execution_count": 9,
   "metadata": {},
   "outputs": [
    {
     "name": "stdout",
     "output_type": "stream",
     "text": [
      "Wall time: 0 ns\n"
     ]
    },
    {
     "data": {
      "text/plain": [
       "KNeighborsClassifier(algorithm='auto', leaf_size=30, metric='minkowski',\n",
       "           metric_params=None, n_jobs=None, n_neighbors=2, p=2,\n",
       "           weights='uniform')"
      ]
     },
     "execution_count": 9,
     "metadata": {},
     "output_type": "execute_result"
    }
   ],
   "source": [
    "%time clf.fit(X_train, y_train)\n"
   ]
  },
  {
   "cell_type": "code",
   "execution_count": 10,
   "metadata": {},
   "outputs": [
    {
     "name": "stdout",
     "output_type": "stream",
     "text": [
      "Wall time: 0 ns\n"
     ]
    }
   ],
   "source": [
    "%time my_clf.fit(X_train, y_train)"
   ]
  },
  {
   "cell_type": "code",
   "execution_count": 26,
   "metadata": {},
   "outputs": [
    {
     "name": "stdout",
     "output_type": "stream",
     "text": [
      "Wall time: 0 ns\n"
     ]
    },
    {
     "data": {
      "text/plain": [
       "array([0, 2, 0, 1, 1, 2, 0, 1, 1, 1, 2, 2, 0, 0, 1])"
      ]
     },
     "execution_count": 26,
     "metadata": {},
     "output_type": "execute_result"
    }
   ],
   "source": [
    "%time clf.predict(X_test)"
   ]
  },
  {
   "cell_type": "code",
   "execution_count": 29,
   "metadata": {},
   "outputs": [
    {
     "name": "stdout",
     "output_type": "stream",
     "text": [
      "Wall time: 0 ns\n"
     ]
    },
    {
     "data": {
      "text/plain": [
       "array([0, 2, 0, 1, 1, 2, 0, 1, 1, 1, 2, 2, 0, 0, 1])"
      ]
     },
     "execution_count": 29,
     "metadata": {},
     "output_type": "execute_result"
    }
   ],
   "source": [
    "%time my_clf.predict(X_test)"
   ]
  },
  {
   "cell_type": "code",
   "execution_count": 30,
   "metadata": {},
   "outputs": [
    {
     "name": "stdout",
     "output_type": "stream",
     "text": [
      "Wall time: 0 ns\n"
     ]
    },
    {
     "data": {
      "text/plain": [
       "array([[1., 0., 0.],\n",
       "       [0., 0., 1.],\n",
       "       [1., 0., 0.],\n",
       "       [0., 1., 0.],\n",
       "       [0., 1., 0.],\n",
       "       [0., 0., 1.],\n",
       "       [1., 0., 0.],\n",
       "       [0., 1., 0.],\n",
       "       [0., 1., 0.],\n",
       "       [0., 1., 0.],\n",
       "       [0., 0., 1.],\n",
       "       [0., 0., 1.],\n",
       "       [1., 0., 0.],\n",
       "       [1., 0., 0.],\n",
       "       [0., 1., 0.]])"
      ]
     },
     "execution_count": 30,
     "metadata": {},
     "output_type": "execute_result"
    }
   ],
   "source": [
    "%time clf.predict_proba(X_test)"
   ]
  },
  {
   "cell_type": "code",
   "execution_count": 31,
   "metadata": {},
   "outputs": [
    {
     "name": "stdout",
     "output_type": "stream",
     "text": [
      "Wall time: 0 ns\n"
     ]
    },
    {
     "data": {
      "text/plain": [
       "array([[1., 0., 0.],\n",
       "       [0., 0., 1.],\n",
       "       [1., 0., 0.],\n",
       "       [0., 1., 0.],\n",
       "       [0., 1., 0.],\n",
       "       [0., 0., 1.],\n",
       "       [1., 0., 0.],\n",
       "       [0., 1., 0.],\n",
       "       [0., 1., 0.],\n",
       "       [0., 1., 0.],\n",
       "       [0., 0., 1.],\n",
       "       [0., 0., 1.],\n",
       "       [1., 0., 0.],\n",
       "       [1., 0., 0.],\n",
       "       [0., 1., 0.]])"
      ]
     },
     "execution_count": 31,
     "metadata": {},
     "output_type": "execute_result"
    }
   ],
   "source": [
    "%time my_clf.predict_proba(X_test)"
   ]
  },
  {
   "cell_type": "code",
   "execution_count": 32,
   "metadata": {},
   "outputs": [
    {
     "data": {
      "text/plain": [
       "0.9333333333333333"
      ]
     },
     "execution_count": 32,
     "metadata": {},
     "output_type": "execute_result"
    }
   ],
   "source": [
    "clf.score(X_test, y_test)"
   ]
  },
  {
   "cell_type": "code",
   "execution_count": 33,
   "metadata": {},
   "outputs": [
    {
     "data": {
      "text/plain": [
       "0.9333333333333333"
      ]
     },
     "execution_count": 33,
     "metadata": {},
     "output_type": "execute_result"
    }
   ],
   "source": [
    "my_clf.score(X_test, y_test)"
   ]
  },
  {
   "cell_type": "markdown",
   "metadata": {},
   "source": [
    "Задание 3"
   ]
  },
  {
   "cell_type": "code",
   "execution_count": 35,
   "metadata": {},
   "outputs": [
    {
     "data": {
      "image/png": "[encoded data removed]",
      "text/plain": [
       "<Figure size 1008x360 with 1 Axes>"
      ]
     },
     "metadata": {
      "needs_background": "light"
     },
     "output_type": "display_data"
    }
   ],
   "source": [
    "scores = np.zeros(len(X_train))\n",
    "n_tests = 50\n",
    "\n",
    "for i in np.arange(n_tests):\n",
    "    X_train, X_test, y_train, y_test = train_test_split(iris.data, iris.target, test_size=0.1, stratify=iris.target)\n",
    "    my_clf = MyKNeighborsClassifier(n_neighbors=2)\n",
    "    my_clf.fit(X_train, y_train)\n",
    "    for n in np.arange(1, len(X_train) + 1):\n",
    "        my_clf.n_neighbors = n\n",
    "        scores[n-1] += my_clf.score(X_test, y_test)\n",
    "\n",
    "scores /= n_tests\n",
    "n_optimal = np.argmax(scores)+1\n",
    "\n",
    "fig = plt.figure(figsize=(14, 5))\n",
    "ax1 = fig.add_subplot(111)\n",
    "plt.plot(np.arange(1, len(X_train)+1), scores)\n",
    "plt.scatter(n_optimal, scores[n_optimal-1], c='r')\n",
    "plt.xlabel('score')\n",
    "plt.xlabel('n_neighbors')\n",
    "plt.title(\"Оптимальное количество соседей равно \" + str(n_optimal))\n",
    "plt.grid(True)"
   ]
  },
  {
   "cell_type": "markdown",
   "metadata": {},
   "source": [
    "**MNIST**"
   ]
  },
  {
   "cell_type": "code",
   "execution_count": 36,
   "metadata": {},
   "outputs": [],
   "source": [
    "#from sklearn.datasets import fetch_mldata\n",
    "#mnist = fetch_mldata('MNIST original')\n",
    "from sklearn.datasets import fetch_openml\n",
    "mnist = fetch_openml('mnist_784')"
   ]
  },
  {
   "cell_type": "code",
   "execution_count": 37,
   "metadata": {},
   "outputs": [],
   "source": [
    "X_train, X_test, y_train, y_test = train_test_split(mnist.data, mnist.target, test_size=0.01, stratify=mnist.target)"
   ]
  },
  {
   "cell_type": "code",
   "execution_count": 38,
   "metadata": {},
   "outputs": [],
   "source": [
    "clf = KNeighborsClassifier(n_neighbors=2)\n",
    "my_clf = MyKNeighborsClassifier(n_neighbors=2)"
   ]
  },
  {
   "cell_type": "code",
   "execution_count": 39,
   "metadata": {},
   "outputs": [
    {
     "name": "stdout",
     "output_type": "stream",
     "text": [
      "Wall time: 41.5 s\n"
     ]
    },
    {
     "data": {
      "text/plain": [
       "KNeighborsClassifier(algorithm='auto', leaf_size=30, metric='minkowski',\n",
       "           metric_params=None, n_jobs=None, n_neighbors=2, p=2,\n",
       "           weights='uniform')"
      ]
     },
     "execution_count": 39,
     "metadata": {},
     "output_type": "execute_result"
    }
   ],
   "source": [
    "%time clf.fit(X_train, y_train)"
   ]
  },
  {
   "cell_type": "code",
   "execution_count": 40,
   "metadata": {},
   "outputs": [
    {
     "name": "stdout",
     "output_type": "stream",
     "text": [
      "Wall time: 185 ms\n"
     ]
    }
   ],
   "source": [
    "%time my_clf.fit(X_train, y_train)"
   ]
  },
  {
   "cell_type": "code",
   "execution_count": 41,
   "metadata": {},
   "outputs": [
    {
     "name": "stdout",
     "output_type": "stream",
     "text": [
      "Wall time: 2min 25s\n"
     ]
    },
    {
     "data": {
      "text/plain": [
       "array(['7', '5', '9', '5', '2', '6', '3', '2', '0', '6', '1', '8', '1',\n",
       "       '2', '8', '7', '6', '4', '7', '0', '0', '0', '6', '6', '9', '5',\n",
       "       '2', '0', '6', '3', '6', '4', '4', '0', '1', '7', '8', '9', '7',\n",
       "       '9', '4', '1', '5', '6', '1', '6', '8', '7', '7', '9', '3', '0',\n",
       "       '9', '8', '1', '2', '5', '3', '3', '6', '8', '0', '6', '7', '1',\n",
       "       '2', '2', '3', '8', '3', '9', '3', '7', '8', '0', '1', '6', '9',\n",
       "       '8', '0', '9', '0', '0', '8', '4', '1', '9', '5', '4', '7', '1',\n",
       "       '6', '7', '4', '5', '6', '2', '3', '3', '9', '6', '0', '3', '0',\n",
       "       '3', '7', '4', '6', '2', '7', '1', '6', '0', '0', '0', '8', '7',\n",
       "       '3', '9', '1', '0', '9', '1', '8', '2', '9', '9', '3', '5', '8',\n",
       "       '9', '9', '2', '1', '3', '2', '6', '2', '3', '7', '3', '5', '7',\n",
       "       '1', '4', '4', '4', '7', '1', '2', '1', '2', '0', '5', '2', '4',\n",
       "       '4', '4', '4', '1', '7', '8', '3', '8', '0', '6', '4', '2', '0',\n",
       "       '8', '0', '8', '9', '4', '3', '2', '4', '1', '7', '0', '1', '1',\n",
       "       '3', '5', '1', '1', '6', '1', '9', '8', '6', '8', '5', '1', '2',\n",
       "       '1', '2', '3', '7', '9', '3', '6', '3', '4', '3', '4', '1', '2',\n",
       "       '1', '5', '0', '2', '3', '7', '1', '5', '1', '9', '0', '2', '8',\n",
       "       '2', '9', '8', '6', '2', '3', '7', '2', '5', '0', '1', '2', '4',\n",
       "       '3', '7', '4', '0', '1', '0', '5', '9', '0', '6', '6', '1', '1',\n",
       "       '1', '7', '8', '6', '4', '5', '2', '1', '4', '3', '3', '7', '8',\n",
       "       '7', '6', '5', '0', '4', '5', '8', '3', '7', '0', '0', '4', '9',\n",
       "       '4', '3', '9', '3', '1', '7', '7', '3', '3', '2', '4', '1', '3',\n",
       "       '0', '5', '1', '0', '0', '1', '8', '3', '5', '6', '3', '6', '0',\n",
       "       '5', '4', '6', '9', '1', '8', '7', '0', '5', '8', '1', '5', '5',\n",
       "       '7', '0', '4', '9', '2', '3', '0', '0', '6', '5', '9', '3', '4',\n",
       "       '9', '0', '0', '3', '3', '7', '3', '5', '9', '7', '9', '3', '7',\n",
       "       '0', '1', '6', '4', '7', '9', '8', '1', '6', '5', '6', '1', '5',\n",
       "       '8', '6', '0', '6', '5', '8', '8', '1', '6', '4', '4', '1', '1',\n",
       "       '5', '2', '3', '7', '8', '4', '9', '7', '0', '5', '2', '9', '3',\n",
       "       '6', '2', '2', '6', '9', '8', '4', '4', '8', '9', '5', '4', '5',\n",
       "       '8', '4', '1', '4', '5', '4', '7', '5', '8', '6', '4', '0', '2',\n",
       "       '5', '8', '6', '6', '7', '3', '0', '9', '7', '5', '6', '3', '9',\n",
       "       '1', '9', '1', '4', '0', '9', '3', '8', '7', '2', '9', '6', '1',\n",
       "       '1', '2', '3', '3', '5', '0', '3', '7', '9', '6', '6', '8', '3',\n",
       "       '9', '3', '2', '2', '2', '4', '1', '2', '3', '7', '3', '4', '5',\n",
       "       '7', '6', '8', '1', '2', '2', '7', '8', '2', '2', '6', '5', '6',\n",
       "       '6', '2', '0', '0', '7', '0', '1', '1', '3', '4', '7', '1', '9',\n",
       "       '2', '1', '5', '0', '3', '7', '4', '5', '7', '0', '9', '1', '5',\n",
       "       '1', '1', '1', '0', '7', '2', '2', '6', '7', '9', '7', '7', '6',\n",
       "       '0', '8', '0', '9', '5', '1', '1', '6', '8', '2', '0', '6', '4',\n",
       "       '4', '5', '1', '8', '1', '8', '5', '9', '8', '1', '7', '7', '2',\n",
       "       '9', '6', '7', '5', '1', '9', '5', '2', '4', '8', '6', '0', '0',\n",
       "       '0', '8', '5', '2', '3', '5', '4', '5', '3', '0', '1', '7', '2',\n",
       "       '7', '8', '9', '6', '7', '0', '4', '9', '5', '1', '0', '2', '5',\n",
       "       '6', '2', '7', '7', '7', '7', '9', '8', '5', '2', '9', '3', '8',\n",
       "       '4', '0', '9', '8', '6', '2', '0', '7', '7', '7', '2', '0', '8',\n",
       "       '2', '5', '2', '9', '1', '9', '2', '4', '6', '8', '7', '8', '4',\n",
       "       '3', '9', '1', '5', '1', '1', '5', '1', '1', '8', '4', '9', '3',\n",
       "       '3', '8', '2', '3', '6', '8', '8', '8', '4', '4', '3', '7', '2',\n",
       "       '9', '4', '7', '7', '3', '9', '4', '9', '4', '6', '2', '3', '3',\n",
       "       '7', '4', '1', '5', '6', '3', '8', '4', '7', '3', '0', '6', '6',\n",
       "       '9', '4', '3', '6', '2', '9', '4', '1', '2', '7', '7', '9', '8',\n",
       "       '6', '8', '6', '2', '1', '6', '4', '7', '6', '5', '7', '7', '3',\n",
       "       '3', '4', '4', '4', '1', '7', '3', '7', '0', '8', '0'],\n",
       "      dtype=object)"
      ]
     },
     "execution_count": 41,
     "metadata": {},
     "output_type": "execute_result"
    }
   ],
   "source": [
    "%time clf.predict(X_test)"
   ]
  },
  {
   "cell_type": "code",
   "execution_count": 42,
   "metadata": {},
   "outputs": [
    {
     "name": "stdout",
     "output_type": "stream",
     "text": [
      "Wall time: 1min 46s\n"
     ]
    },
    {
     "data": {
      "text/plain": [
       "array(['7', '5', '9', '5', '2', '6', '3', '2', '0', '6', '1', '8', '1',\n",
       "       '2', '8', '7', '6', '4', '7', '0', '0', '0', '6', '6', '9', '5',\n",
       "       '2', '0', '6', '3', '6', '4', '4', '0', '1', '7', '8', '9', '7',\n",
       "       '9', '4', '1', '5', '6', '1', '6', '8', '7', '7', '9', '3', '0',\n",
       "       '9', '8', '1', '2', '5', '3', '3', '6', '8', '0', '6', '7', '1',\n",
       "       '2', '2', '3', '8', '3', '9', '3', '7', '8', '0', '1', '6', '9',\n",
       "       '8', '0', '9', '0', '0', '8', '4', '1', '9', '5', '4', '7', '1',\n",
       "       '6', '7', '4', '5', '6', '2', '3', '3', '9', '6', '0', '3', '0',\n",
       "       '3', '7', '4', '6', '2', '7', '1', '6', '0', '0', '0', '8', '7',\n",
       "       '3', '9', '1', '0', '9', '1', '8', '2', '9', '9', '3', '5', '8',\n",
       "       '9', '9', '2', '1', '3', '2', '6', '2', '3', '7', '3', '5', '7',\n",
       "       '1', '4', '4', '4', '7', '1', '2', '1', '2', '0', '5', '2', '4',\n",
       "       '4', '4', '4', '1', '7', '8', '3', '8', '0', '6', '4', '2', '0',\n",
       "       '8', '0', '8', '9', '4', '3', '2', '4', '1', '7', '0', '1', '1',\n",
       "       '3', '5', '1', '1', '6', '1', '9', '8', '6', '8', '5', '1', '2',\n",
       "       '1', '2', '3', '7', '9', '3', '6', '3', '4', '3', '4', '1', '2',\n",
       "       '1', '5', '0', '2', '3', '7', '1', '5', '1', '9', '0', '2', '8',\n",
       "       '2', '9', '8', '6', '2', '3', '7', '2', '5', '0', '1', '2', '4',\n",
       "       '3', '7', '4', '0', '1', '0', '5', '9', '0', '6', '6', '1', '1',\n",
       "       '1', '7', '8', '6', '4', '5', '2', '1', '4', '3', '3', '7', '8',\n",
       "       '7', '6', '5', '0', '4', '5', '8', '3', '7', '0', '0', '4', '9',\n",
       "       '4', '3', '9', '3', '1', '7', '7', '3', '3', '2', '4', '1', '3',\n",
       "       '0', '5', '1', '0', '0', '1', '8', '3', '5', '6', '3', '6', '0',\n",
       "       '5', '4', '6', '9', '1', '8', '7', '0', '5', '8', '1', '5', '5',\n",
       "       '7', '0', '4', '9', '2', '3', '0', '0', '6', '5', '9', '3', '4',\n",
       "       '9', '0', '0', '3', '3', '7', '3', '5', '9', '7', '9', '3', '7',\n",
       "       '0', '1', '6', '4', '7', '9', '8', '1', '6', '5', '6', '1', '5',\n",
       "       '8', '6', '0', '6', '5', '8', '8', '1', '6', '4', '4', '1', '1',\n",
       "       '5', '2', '3', '7', '8', '4', '9', '7', '0', '5', '2', '9', '3',\n",
       "       '6', '2', '2', '6', '9', '8', '4', '4', '8', '9', '5', '4', '5',\n",
       "       '8', '4', '1', '4', '5', '4', '7', '5', '8', '6', '4', '0', '2',\n",
       "       '5', '8', '6', '6', '7', '3', '0', '9', '7', '5', '6', '3', '9',\n",
       "       '1', '9', '1', '4', '0', '9', '3', '8', '7', '2', '9', '6', '1',\n",
       "       '1', '2', '3', '3', '5', '0', '3', '7', '9', '6', '6', '8', '3',\n",
       "       '9', '3', '2', '2', '2', '4', '1', '2', '3', '7', '3', '4', '5',\n",
       "       '7', '6', '8', '1', '2', '2', '7', '8', '2', '2', '6', '5', '6',\n",
       "       '6', '2', '0', '0', '7', '0', '1', '1', '3', '4', '7', '1', '9',\n",
       "       '2', '1', '5', '0', '3', '7', '4', '5', '7', '0', '9', '1', '5',\n",
       "       '1', '1', '1', '0', '7', '2', '2', '6', '7', '9', '7', '7', '6',\n",
       "       '0', '8', '0', '9', '5', '1', '1', '6', '8', '2', '0', '6', '4',\n",
       "       '4', '5', '1', '8', '1', '8', '5', '9', '8', '1', '7', '7', '2',\n",
       "       '9', '6', '7', '5', '1', '9', '5', '2', '4', '8', '6', '0', '0',\n",
       "       '0', '8', '5', '2', '3', '5', '4', '5', '3', '0', '1', '7', '2',\n",
       "       '7', '8', '9', '6', '7', '0', '4', '9', '5', '1', '0', '2', '5',\n",
       "       '6', '2', '7', '7', '7', '7', '9', '8', '5', '2', '9', '3', '8',\n",
       "       '4', '0', '9', '8', '6', '2', '0', '7', '7', '7', '2', '0', '8',\n",
       "       '2', '5', '2', '9', '1', '9', '2', '4', '6', '8', '7', '8', '4',\n",
       "       '3', '9', '1', '5', '1', '1', '5', '1', '1', '8', '4', '9', '3',\n",
       "       '3', '8', '2', '3', '6', '8', '8', '8', '4', '4', '3', '7', '2',\n",
       "       '9', '4', '7', '7', '3', '9', '4', '9', '4', '6', '2', '3', '3',\n",
       "       '7', '4', '1', '5', '6', '3', '8', '4', '7', '3', '0', '6', '6',\n",
       "       '9', '4', '3', '6', '2', '9', '4', '1', '2', '7', '7', '9', '8',\n",
       "       '6', '8', '6', '2', '1', '6', '4', '7', '6', '5', '7', '7', '3',\n",
       "       '3', '4', '4', '4', '1', '7', '3', '7', '0', '8', '0'],\n",
       "      dtype=object)"
      ]
     },
     "execution_count": 42,
     "metadata": {},
     "output_type": "execute_result"
    }
   ],
   "source": [
    "%time my_clf.predict(X_test)"
   ]
  },
  {
   "cell_type": "code",
   "execution_count": 43,
   "metadata": {},
   "outputs": [
    {
     "name": "stdout",
     "output_type": "stream",
     "text": [
      "Wall time: 2min 22s\n"
     ]
    },
    {
     "data": {
      "text/plain": [
       "array([[0., 0., 0., ..., 1., 0., 0.],\n",
       "       [0., 0., 0., ..., 0., 0., 0.],\n",
       "       [0., 0., 0., ..., 0., 0., 1.],\n",
       "       ...,\n",
       "       [1., 0., 0., ..., 0., 0., 0.],\n",
       "       [0., 0., 0., ..., 0., 1., 0.],\n",
       "       [1., 0., 0., ..., 0., 0., 0.]])"
      ]
     },
     "execution_count": 43,
     "metadata": {},
     "output_type": "execute_result"
    }
   ],
   "source": [
    "%time clf.predict_proba(X_test)"
   ]
  },
  {
   "cell_type": "code",
   "execution_count": 44,
   "metadata": {},
   "outputs": [
    {
     "name": "stdout",
     "output_type": "stream",
     "text": [
      "Wall time: 1min 44s\n"
     ]
    },
    {
     "data": {
      "text/plain": [
       "array([[0., 0., 0., ..., 1., 0., 0.],\n",
       "       [0., 0., 0., ..., 0., 0., 0.],\n",
       "       [0., 0., 0., ..., 0., 0., 1.],\n",
       "       ...,\n",
       "       [1., 0., 0., ..., 0., 0., 0.],\n",
       "       [0., 0., 0., ..., 0., 1., 0.],\n",
       "       [1., 0., 0., ..., 0., 0., 0.]])"
      ]
     },
     "execution_count": 44,
     "metadata": {},
     "output_type": "execute_result"
    }
   ],
   "source": [
    "%time my_clf.predict_proba(X_test)"
   ]
  },
  {
   "cell_type": "code",
   "execution_count": 45,
   "metadata": {},
   "outputs": [
    {
     "data": {
      "text/plain": [
       "0.9714285714285714"
      ]
     },
     "execution_count": 45,
     "metadata": {},
     "output_type": "execute_result"
    }
   ],
   "source": [
    "clf.score(X_test, y_test)"
   ]
  },
  {
   "cell_type": "code",
   "execution_count": 46,
   "metadata": {},
   "outputs": [
    {
     "data": {
      "text/plain": [
       "0.9714285714285714"
      ]
     },
     "execution_count": 46,
     "metadata": {},
     "output_type": "execute_result"
    }
   ],
   "source": [
    "my_clf.score(X_test, y_test)"
   ]
  },
  {
   "cell_type": "markdown",
   "metadata": {},
   "source": [
    "Задание 4"
   ]
  },
  {
   "cell_type": "code",
   "execution_count": 47,
   "metadata": {},
   "outputs": [],
   "source": [
    "clf = KNeighborsClassifier(n_neighbors=n_optimal, algorithm='kd_tree')\n",
    "my_clf = MyKNeighborsClassifier(n_neighbors=n_optimal, algorithm='kd_tree')"
   ]
  },
  {
   "cell_type": "code",
   "execution_count": 48,
   "metadata": {},
   "outputs": [],
   "source": [
    "X_train, X_test, y_train, y_test = train_test_split(mnist.data, mnist.target, test_size=0.01, stratify=mnist.target)"
   ]
  },
  {
   "cell_type": "code",
   "execution_count": 49,
   "metadata": {},
   "outputs": [
    {
     "name": "stdout",
     "output_type": "stream",
     "text": [
      "Wall time: 43.5 s\n"
     ]
    },
    {
     "data": {
      "text/plain": [
       "KNeighborsClassifier(algorithm='kd_tree', leaf_size=30, metric='minkowski',\n",
       "           metric_params=None, n_jobs=None, n_neighbors=9, p=2,\n",
       "           weights='uniform')"
      ]
     },
     "execution_count": 49,
     "metadata": {},
     "output_type": "execute_result"
    }
   ],
   "source": [
    "%time clf.fit(X_train, y_train)"
   ]
  },
  {
   "cell_type": "code",
   "execution_count": 50,
   "metadata": {},
   "outputs": [
    {
     "name": "stdout",
     "output_type": "stream",
     "text": [
      "Wall time: 43.4 s\n"
     ]
    }
   ],
   "source": [
    "%time my_clf.fit(X_train, y_train)"
   ]
  },
  {
   "cell_type": "code",
   "execution_count": 51,
   "metadata": {},
   "outputs": [
    {
     "name": "stdout",
     "output_type": "stream",
     "text": [
      "Wall time: 2min 28s\n"
     ]
    },
    {
     "data": {
      "text/plain": [
       "array(['7', '4', '2', '1', '2', '9', '6', '9', '7', '9', '6', '9', '1',\n",
       "       '6', '2', '7', '4', '9', '5', '1', '0', '7', '0', '8', '6', '6',\n",
       "       '1', '5', '6', '0', '7', '3', '0', '7', '9', '4', '1', '3', '5',\n",
       "       '0', '5', '9', '3', '7', '7', '1', '6', '4', '1', '6', '7', '0',\n",
       "       '9', '9', '0', '2', '4', '2', '0', '8', '5', '3', '1', '9', '9',\n",
       "       '9', '8', '8', '1', '3', '0', '9', '1', '1', '8', '0', '8', '2',\n",
       "       '5', '1', '6', '3', '6', '7', '1', '7', '0', '2', '7', '2', '6',\n",
       "       '2', '3', '7', '3', '5', '4', '4', '6', '3', '8', '3', '5', '3',\n",
       "       '2', '5', '2', '9', '5', '7', '3', '8', '2', '6', '1', '4', '4',\n",
       "       '4', '5', '2', '2', '3', '2', '5', '0', '9', '7', '5', '8', '7',\n",
       "       '4', '1', '4', '7', '8', '6', '3', '7', '8', '1', '1', '0', '5',\n",
       "       '0', '8', '4', '1', '3', '5', '8', '8', '0', '6', '1', '6', '9',\n",
       "       '9', '7', '7', '9', '2', '0', '1', '6', '7', '1', '2', '9', '5',\n",
       "       '1', '2', '4', '5', '2', '3', '9', '7', '6', '5', '1', '0', '8',\n",
       "       '4', '6', '2', '8', '1', '9', '3', '5', '5', '7', '7', '0', '4',\n",
       "       '2', '2', '8', '0', '3', '1', '5', '8', '8', '5', '9', '6', '3',\n",
       "       '7', '1', '5', '8', '6', '7', '3', '8', '9', '1', '4', '0', '5',\n",
       "       '3', '9', '9', '0', '9', '9', '4', '6', '5', '5', '6', '0', '3',\n",
       "       '4', '6', '0', '1', '9', '9', '1', '4', '0', '2', '0', '9', '2',\n",
       "       '7', '1', '8', '1', '3', '9', '9', '6', '5', '3', '1', '5', '4',\n",
       "       '4', '3', '1', '0', '9', '9', '9', '5', '1', '4', '3', '2', '0',\n",
       "       '1', '2', '3', '4', '0', '8', '4', '3', '8', '7', '8', '9', '7',\n",
       "       '8', '0', '2', '1', '7', '0', '2', '4', '6', '1', '4', '5', '0',\n",
       "       '8', '7', '4', '3', '9', '0', '1', '5', '6', '0', '5', '8', '3',\n",
       "       '3', '9', '9', '7', '3', '4', '1', '4', '4', '6', '6', '8', '0',\n",
       "       '9', '8', '1', '2', '7', '5', '8', '1', '8', '4', '3', '4', '5',\n",
       "       '9', '5', '5', '9', '0', '3', '5', '1', '9', '5', '8', '8', '8',\n",
       "       '6', '1', '4', '5', '6', '4', '5', '6', '6', '8', '0', '9', '5',\n",
       "       '6', '5', '1', '9', '1', '4', '4', '3', '5', '9', '8', '3', '7',\n",
       "       '3', '5', '9', '2', '2', '2', '6', '7', '9', '5', '5', '7', '6',\n",
       "       '8', '9', '3', '9', '2', '6', '2', '7', '6', '0', '7', '6', '7',\n",
       "       '4', '9', '7', '7', '0', '1', '7', '6', '0', '2', '6', '2', '7',\n",
       "       '3', '7', '3', '7', '4', '9', '1', '3', '1', '4', '3', '1', '5',\n",
       "       '8', '3', '2', '3', '2', '6', '2', '0', '4', '7', '5', '6', '2',\n",
       "       '6', '5', '5', '8', '2', '8', '8', '6', '9', '4', '0', '3', '9',\n",
       "       '6', '7', '7', '8', '5', '4', '8', '4', '9', '8', '5', '2', '1',\n",
       "       '1', '1', '3', '3', '3', '8', '3', '7', '6', '5', '1', '9', '0',\n",
       "       '7', '1', '1', '1', '4', '3', '3', '7', '1', '0', '3', '1', '1',\n",
       "       '9', '7', '4', '0', '0', '2', '8', '8', '9', '2', '4', '1', '1',\n",
       "       '4', '7', '3', '7', '0', '3', '5', '7', '6', '4', '4', '3', '0',\n",
       "       '6', '0', '6', '6', '0', '8', '4', '9', '1', '2', '2', '7', '5',\n",
       "       '6', '0', '8', '7', '3', '7', '4', '2', '8', '5', '0', '5', '7',\n",
       "       '9', '1', '2', '4', '1', '8', '7', '7', '4', '8', '0', '8', '6',\n",
       "       '4', '1', '3', '4', '2', '1', '0', '3', '2', '2', '4', '2', '0',\n",
       "       '8', '8', '8', '8', '3', '0', '2', '3', '9', '6', '2', '1', '7',\n",
       "       '0', '6', '9', '1', '0', '6', '2', '0', '3', '4', '1', '7', '4',\n",
       "       '5', '1', '8', '9', '1', '0', '1', '9', '5', '0', '1', '9', '7',\n",
       "       '5', '3', '9', '5', '7', '3', '2', '4', '6', '5', '6', '2', '8',\n",
       "       '1', '3', '7', '6', '3', '4', '9', '7', '7', '2', '4', '2', '8',\n",
       "       '4', '0', '7', '1', '7', '5', '2', '6', '1', '7', '0', '0', '6',\n",
       "       '3', '4', '0', '2', '5', '6', '3', '0', '0', '9', '8', '4', '0',\n",
       "       '3', '6', '1', '3', '0', '1', '9', '4', '1', '6', '6', '3', '7',\n",
       "       '2', '0', '7', '2', '1', '9', '7', '2', '5', '9', '7', '0', '2',\n",
       "       '6', '7', '3', '6', '2', '8', '0', '0', '1', '2', '1'],\n",
       "      dtype=object)"
      ]
     },
     "execution_count": 51,
     "metadata": {},
     "output_type": "execute_result"
    }
   ],
   "source": [
    "%time clf.predict(X_test)"
   ]
  },
  {
   "cell_type": "code",
   "execution_count": 52,
   "metadata": {},
   "outputs": [
    {
     "name": "stdout",
     "output_type": "stream",
     "text": [
      "Wall time: 2min 26s\n"
     ]
    },
    {
     "data": {
      "text/plain": [
       "array(['7', '4', '2', '1', '2', '9', '6', '9', '7', '9', '6', '9', '1',\n",
       "       '6', '2', '7', '4', '9', '5', '1', '0', '7', '0', '8', '6', '6',\n",
       "       '1', '5', '6', '0', '7', '3', '0', '7', '9', '4', '1', '3', '5',\n",
       "       '0', '5', '9', '3', '7', '7', '1', '6', '4', '1', '6', '7', '0',\n",
       "       '9', '9', '0', '2', '4', '2', '0', '8', '5', '3', '1', '9', '9',\n",
       "       '9', '8', '8', '1', '3', '0', '9', '1', '1', '8', '0', '8', '2',\n",
       "       '5', '1', '6', '3', '6', '7', '1', '7', '0', '2', '7', '2', '6',\n",
       "       '2', '3', '7', '3', '5', '4', '4', '6', '3', '8', '3', '5', '3',\n",
       "       '2', '5', '2', '9', '5', '7', '3', '8', '2', '6', '1', '4', '4',\n",
       "       '4', '5', '2', '2', '3', '2', '5', '0', '9', '7', '5', '8', '7',\n",
       "       '4', '1', '4', '7', '8', '6', '3', '7', '8', '1', '1', '0', '5',\n",
       "       '0', '8', '4', '1', '3', '5', '8', '8', '0', '6', '1', '6', '9',\n",
       "       '9', '7', '7', '9', '2', '0', '1', '6', '7', '1', '2', '9', '5',\n",
       "       '1', '2', '4', '5', '2', '3', '9', '7', '6', '5', '1', '0', '8',\n",
       "       '4', '6', '2', '8', '1', '9', '3', '5', '5', '7', '7', '0', '4',\n",
       "       '2', '2', '8', '0', '3', '1', '5', '8', '8', '5', '9', '6', '3',\n",
       "       '7', '1', '5', '8', '6', '7', '3', '8', '9', '1', '4', '0', '5',\n",
       "       '3', '9', '9', '0', '9', '9', '4', '6', '5', '5', '6', '0', '3',\n",
       "       '4', '6', '0', '1', '9', '9', '1', '4', '0', '2', '0', '9', '2',\n",
       "       '7', '1', '8', '1', '3', '9', '9', '6', '5', '3', '1', '5', '4',\n",
       "       '4', '3', '1', '0', '9', '9', '9', '5', '1', '4', '3', '2', '0',\n",
       "       '1', '2', '3', '4', '0', '8', '4', '3', '8', '7', '8', '9', '7',\n",
       "       '8', '0', '2', '1', '7', '0', '2', '4', '6', '1', '4', '5', '0',\n",
       "       '8', '7', '4', '3', '9', '0', '1', '5', '6', '0', '5', '8', '3',\n",
       "       '3', '9', '9', '7', '3', '4', '1', '4', '4', '6', '6', '8', '0',\n",
       "       '9', '8', '1', '2', '7', '5', '8', '1', '8', '4', '3', '4', '5',\n",
       "       '9', '5', '5', '9', '0', '3', '5', '1', '9', '5', '8', '8', '8',\n",
       "       '6', '1', '4', '5', '6', '4', '5', '6', '6', '8', '0', '9', '5',\n",
       "       '6', '5', '1', '9', '1', '4', '4', '3', '5', '9', '8', '3', '7',\n",
       "       '3', '5', '9', '2', '2', '2', '6', '7', '9', '5', '5', '7', '6',\n",
       "       '8', '9', '3', '9', '2', '6', '2', '7', '6', '0', '7', '6', '7',\n",
       "       '4', '9', '7', '7', '0', '1', '7', '6', '0', '2', '6', '2', '7',\n",
       "       '3', '7', '3', '7', '4', '9', '1', '3', '1', '4', '3', '1', '5',\n",
       "       '8', '3', '2', '3', '2', '6', '2', '0', '4', '7', '5', '6', '2',\n",
       "       '6', '5', '5', '8', '2', '8', '8', '6', '9', '4', '0', '3', '9',\n",
       "       '6', '7', '7', '8', '5', '4', '8', '4', '9', '8', '5', '2', '1',\n",
       "       '1', '1', '3', '3', '3', '8', '3', '7', '6', '5', '1', '9', '0',\n",
       "       '7', '1', '1', '1', '4', '3', '3', '7', '1', '0', '3', '1', '1',\n",
       "       '9', '7', '4', '0', '0', '2', '8', '8', '9', '2', '4', '1', '1',\n",
       "       '4', '7', '3', '7', '0', '3', '5', '7', '6', '4', '4', '3', '0',\n",
       "       '6', '0', '6', '6', '0', '8', '4', '9', '1', '2', '2', '7', '5',\n",
       "       '6', '0', '8', '7', '3', '7', '4', '2', '8', '5', '0', '5', '7',\n",
       "       '9', '1', '2', '4', '1', '8', '7', '7', '4', '8', '0', '8', '6',\n",
       "       '4', '1', '3', '4', '2', '1', '0', '3', '2', '2', '4', '2', '0',\n",
       "       '8', '8', '8', '8', '3', '0', '2', '3', '9', '6', '2', '1', '7',\n",
       "       '0', '6', '9', '1', '0', '6', '2', '0', '3', '4', '1', '7', '4',\n",
       "       '5', '1', '8', '9', '1', '0', '1', '9', '5', '0', '1', '9', '7',\n",
       "       '5', '3', '9', '5', '7', '3', '2', '4', '6', '5', '6', '2', '8',\n",
       "       '1', '3', '7', '6', '3', '4', '9', '7', '7', '2', '4', '2', '8',\n",
       "       '4', '0', '7', '1', '7', '5', '2', '6', '1', '7', '0', '0', '6',\n",
       "       '3', '4', '0', '2', '5', '6', '3', '0', '0', '9', '8', '4', '0',\n",
       "       '3', '6', '1', '3', '0', '1', '9', '4', '1', '6', '6', '3', '7',\n",
       "       '2', '0', '7', '2', '1', '9', '7', '2', '5', '9', '7', '0', '2',\n",
       "       '6', '7', '3', '6', '2', '8', '0', '0', '1', '2', '1'],\n",
       "      dtype=object)"
      ]
     },
     "execution_count": 52,
     "metadata": {},
     "output_type": "execute_result"
    }
   ],
   "source": [
    "%time my_clf.predict(X_test)"
   ]
  },
  {
   "cell_type": "code",
   "execution_count": 53,
   "metadata": {},
   "outputs": [
    {
     "name": "stdout",
     "output_type": "stream",
     "text": [
      "Wall time: 2min 28s\n"
     ]
    },
    {
     "data": {
      "text/plain": [
       "array([[0.        , 0.        , 0.        , ..., 1.        , 0.        ,\n",
       "        0.        ],\n",
       "       [0.        , 0.        , 0.        , ..., 0.        , 0.        ,\n",
       "        0.11111111],\n",
       "       [0.        , 0.        , 1.        , ..., 0.        , 0.        ,\n",
       "        0.        ],\n",
       "       ...,\n",
       "       [0.        , 1.        , 0.        , ..., 0.        , 0.        ,\n",
       "        0.        ],\n",
       "       [0.        , 0.        , 1.        , ..., 0.        , 0.        ,\n",
       "        0.        ],\n",
       "       [0.        , 1.        , 0.        , ..., 0.        , 0.        ,\n",
       "        0.        ]])"
      ]
     },
     "execution_count": 53,
     "metadata": {},
     "output_type": "execute_result"
    }
   ],
   "source": [
    "%time clf.predict_proba(X_test)"
   ]
  },
  {
   "cell_type": "code",
   "execution_count": 54,
   "metadata": {},
   "outputs": [
    {
     "name": "stdout",
     "output_type": "stream",
     "text": [
      "Wall time: 2min 28s\n"
     ]
    },
    {
     "data": {
      "text/plain": [
       "array([[0.        , 0.        , 0.        , ..., 1.        , 0.        ,\n",
       "        0.        ],\n",
       "       [0.        , 0.        , 0.        , ..., 0.        , 0.        ,\n",
       "        0.11111111],\n",
       "       [0.        , 0.        , 1.        , ..., 0.        , 0.        ,\n",
       "        0.        ],\n",
       "       ...,\n",
       "       [0.        , 1.        , 0.        , ..., 0.        , 0.        ,\n",
       "        0.        ],\n",
       "       [0.        , 0.        , 1.        , ..., 0.        , 0.        ,\n",
       "        0.        ],\n",
       "       [0.        , 1.        , 0.        , ..., 0.        , 0.        ,\n",
       "        0.        ]])"
      ]
     },
     "execution_count": 54,
     "metadata": {},
     "output_type": "execute_result"
    }
   ],
   "source": [
    "%time my_clf.predict_proba(X_test)"
   ]
  },
  {
   "cell_type": "code",
   "execution_count": 55,
   "metadata": {},
   "outputs": [
    {
     "data": {
      "text/plain": [
       "0.9742857142857143"
      ]
     },
     "execution_count": 55,
     "metadata": {},
     "output_type": "execute_result"
    }
   ],
   "source": [
    "clf.score(X_test, y_test)"
   ]
  },
  {
   "cell_type": "code",
   "execution_count": 56,
   "metadata": {},
   "outputs": [
    {
     "data": {
      "text/plain": [
       "0.9742857142857143"
      ]
     },
     "execution_count": 56,
     "metadata": {},
     "output_type": "execute_result"
    }
   ],
   "source": [
    "my_clf.score(X_test, y_test)"
   ]
  },
  {
   "cell_type": "markdown",
   "metadata": {},
   "source": [
    "Задание 5"
   ]
  },
  {
   "cell_type": "code",
   "execution_count": 57,
   "metadata": {},
   "outputs": [],
   "source": [
    "# seaborn - библиотека для визуализации данных и статистических моделей (гистограммы,\n",
    "# диаграммы рассеяния, тепловые карты, \"ящики с усами\" и т.д.)\n",
    "\n",
    "# matplotlib - библиотека для визуализации данных, с ее помощью можно строить графики,\n",
    "# гистограммы, контурные карты, 3D поверхности (изначально - подражание матлабу). На ее основе базируется seaborn.\n",
    "\n",
    "# train_test_split - разделение выборки на обучающую и тестовую\n",
    "\n",
    "# Pipelin%load_ext e (from sklearn.pipeline import Pipeline) - Класс Pipeline позволяет склеивать несколько \n",
    "# операций обработки данных в единую модель библиотеки scikit-learn. Класс Pipeline предусматривает \n",
    "# методы fit, predict и score и имеет все те же свойства, что и любая модель в библиотеке scikit-learn\n",
    "\n",
    "# StandardScaler (from sklearn.preprocessing import StandardScaler) - StandardScaler нормирует данные, после чего\n",
    "# среднее становится равным 0, а дисперсия 1\n",
    "\n",
    "# ClassifierMixin - mixin - класс, реализующий какое-либо чётко выделенное поведение. В данном случа это миксин для\n",
    "# всех классов-классификаторов. Членом класса является метод score\n",
    "\n",
    "# NeighborsBase - базовый класс для всех классификаторов на методе ближайших соседей\n",
    "\n",
    "# KNeighborsMixin - миксин для всех классов-классификаторов, основанных на методе ближайших соседей \n",
    "\n",
    "# SupervisedIntegerMixin - миксин для классов-классификаторов, содержит метод fit\n"
   ]
  }
 ],
 "metadata": {
  "kernelspec": {
   "display_name": "Python 3",
   "language": "python",
   "name": "python3"
  },
  "language_info": {
   "codemirror_mode": {
    "name": "ipython",
    "version": 3
   },
   "file_extension": ".py",
   "mimetype": "text/x-python",
   "name": "python",
   "nbconvert_exporter": "python",
   "pygments_lexer": "ipython3",
   "version": "3.7.1"
  }
 },
 "nbformat": 4,
 "nbformat_minor": 2
}
